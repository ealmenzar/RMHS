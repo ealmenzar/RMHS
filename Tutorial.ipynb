{
 "cells": [
  {
   "cell_type": "markdown",
   "metadata": {},
   "source": [
    "# Replication of Study 7 by Exline, Baumeister, Zell, Kraft & Witvliet (2008, Journal of Personality and Social Psychology)"
   ]
  },
  {
   "cell_type": "markdown",
   "metadata": {},
   "source": [
    "## \"Could a subtle Empathy-Capability Manipulation Reduce (Men’s) Vengefulness?\""
   ]
  },
  {
   "cell_type": "markdown",
   "metadata": {},
   "source": [
    "*by Max Dieckmann, Siwar Elghoul, Marina Estévez Almenzar, Olga Galí Pérez*"
   ]
  },
  {
   "cell_type": "markdown",
   "metadata": {},
   "source": [
    "## Data  preparation"
   ]
  },
  {
   "cell_type": "markdown",
   "metadata": {},
   "source": [
    "Firstly, we excluded all the data from the participants that did not finish the questionnaire. \n",
    "Secondly, we excluded the participants who indicated a low level of privacy and a high level of noise of the surroundings where the participant was answering the questionnaire. \n",
    "Third, we excluded the participants who did not select male or female in the question about the gender.\n",
    "Finally, we ensured that the offense described by the participants was correctly described.\n",
    "\n",
    "As a result, we obtained the data included in `data.csv`"
   ]
  },
  {
   "cell_type": "code",
   "execution_count": 2,
   "metadata": {},
   "outputs": [],
   "source": [
    "import pandas as pd\n",
    "\n",
    "df = pd.read_csv('data.csv', sep=';', encoding='utf-16le')"
   ]
  },
  {
   "cell_type": "markdown",
   "metadata": {},
   "source": [
    "## Results"
   ]
  },
  {
   "cell_type": "markdown",
   "metadata": {},
   "source": [
    "Next, we show some important means and standard deviations from our data.\n",
    "\n",
    "Vengeance  scores  were  calculated  as  indicated  by  McCul-lough,  Root,  and  Cohen  (2006)"
   ]
  },
  {
   "cell_type": "code",
   "execution_count": 6,
   "metadata": {},
   "outputs": [
    {
     "name": "stdout",
     "output_type": "stream",
     "text": [
      "\n",
      "VENGEFULNESS\n",
      "SD =  0.8999148798026784\n",
      "M =  1.917142857142857\n"
     ]
    }
   ],
   "source": [
    "import numpy as np\n",
    "\n",
    "vengefulness = df['revenge']\n",
    "print(\"\\nVENGEFULNESS\")\n",
    "print(\"SD = \", np.std(vengefulness, ddof=1))\n",
    "print(\"M = \", np.mean(vengefulness))"
   ]
  },
  {
   "cell_type": "markdown",
   "metadata": {},
   "source": [
    "Overall  TRIM  scores  were  calculated  using  the  mean  acrossall  scales  items,  with  thebenevolence  items  reverse  coded."
   ]
  },
  {
   "cell_type": "code",
   "execution_count": 7,
   "metadata": {},
   "outputs": [
    {
     "name": "stdout",
     "output_type": "stream",
     "text": [
      "\n",
      "TRIM\n",
      "SD =  0.8388571620622751\n",
      "M =  3.0833333333333335\n"
     ]
    }
   ],
   "source": [
    "trim = df['trim_total']\n",
    "print(\"\\nTRIM\")\n",
    "print(\"SD = \", np.std(trim, ddof=1))\n",
    "print(\"M = \", np.mean(trim))"
   ]
  },
  {
   "cell_type": "markdown",
   "metadata": {},
   "source": [
    "As in the original study, capability to commit an equally bad and similar offense were correlated, so all eight items from the two scales were averaged to form a personal capability score."
   ]
  },
  {
   "cell_type": "code",
   "execution_count": 13,
   "metadata": {},
   "outputs": [
    {
     "name": "stdout",
     "output_type": "stream",
     "text": [
      "\n",
      "Spearman correlation between capability to commit an equally bad and similar offense\n",
      "SpearmanrResult(correlation=0.8472556767587041, pvalue=2.346384190136411e-20)\n",
      "\n",
      "CAPABILITY & SIMILARITY\n",
      "SD =  2.652409765121483\n",
      "M =  3.5982142857142856\n"
     ]
    }
   ],
   "source": [
    "import scipy.stats as stats\n",
    "\n",
    "print(\"\\nSpearman correlation between capability to commit an equally bad and similar offense\")\n",
    "print(stats.spearmanr(df['cap'], df['sim']))\n",
    "cap_sim = df['cap & sim']\n",
    "print(\"\\nCAPABILITY & SIMILARITY\")\n",
    "print(\"SD = \", np.std(cap_sim, ddof=1))\n",
    "print(\"M = \", np.mean(cap_sim))"
   ]
  },
  {
   "cell_type": "markdown",
   "metadata": {},
   "source": [
    "Empathy was calculated using the  mean of the four empathy questions."
   ]
  },
  {
   "cell_type": "code",
   "execution_count": 14,
   "metadata": {},
   "outputs": [
    {
     "name": "stdout",
     "output_type": "stream",
     "text": [
      "\n",
      "EMPATHY\n",
      "SD =  2.5668318558872367\n",
      "M =  4.4678571428571425\n"
     ]
    }
   ],
   "source": [
    "emp = df['emp']\n",
    "print(\"\\nEMPATHY\")\n",
    "print(\"SD = \", np.std(emp, ddof=1))\n",
    "print(\"M = \", np.mean(emp))"
   ]
  },
  {
   "cell_type": "markdown",
   "metadata": {},
   "source": [
    "For the overall TRIM (unforgiveness) score, the effect of condition was not significant, so those who viewed the capability questions after the TRIM (experimental group) had similar TRIM scores than those who viewed the capability questions before the TRIM (control group)."
   ]
  },
  {
   "cell_type": "code",
   "execution_count": 16,
   "metadata": {},
   "outputs": [
    {
     "name": "stdout",
     "output_type": "stream",
     "text": [
      "\n",
      "TRIM FOR CONTROL GROUP\n",
      "SD =  0.6599982080821954\n",
      "M =  3.2087087087087083\n",
      "\n",
      "TRIM FOR EXPERIMENTAL GROUP\n",
      "SD =  0.9943401606250243\n",
      "M =  2.942760942760943\n"
     ]
    }
   ],
   "source": [
    "control_trim = control['trim_total']\n",
    "print(\"\\nTRIM FOR CONTROL GROUP\")\n",
    "print(\"SD = \", np.std(control_trim, ddof=1))\n",
    "print(\"M = \", np.mean(control_trim))\n",
    "\n",
    "exp_trim = experiment['trim_total']\n",
    "print(\"\\nTRIM FOR EXPERIMENTAL GROUP\")\n",
    "print(\"SD = \", np.std(exp_trim, ddof=1))\n",
    "print(\"M = \", np.mean(exp_trim))"
   ]
  },
  {
   "cell_type": "markdown",
   "metadata": {},
   "source": [
    "Regarding vengefulness scores, "
   ]
  }
 ],
 "metadata": {
  "kernelspec": {
   "display_name": "Python 3",
   "language": "python",
   "name": "python3"
  },
  "language_info": {
   "codemirror_mode": {
    "name": "ipython",
    "version": 3
   },
   "file_extension": ".py",
   "mimetype": "text/x-python",
   "name": "python",
   "nbconvert_exporter": "python",
   "pygments_lexer": "ipython3",
   "version": "3.7.1"
  }
 },
 "nbformat": 4,
 "nbformat_minor": 2
}
