{
 "cells": [
  {
   "cell_type": "markdown",
   "metadata": {},
   "source": [
    "# Replication of Study 7 by Exline, Baumeister, Zell, Kraft & Witvliet (2008, Journal of Personality and Social Psychology)"
   ]
  },
  {
   "cell_type": "markdown",
   "metadata": {},
   "source": [
    "## \"Could a subtle Empathy-CapabilityManipulation Reduce (Men’s) Vengefulness?\""
   ]
  },
  {
   "cell_type": "markdown",
   "metadata": {},
   "source": [
    "*by Max Dieckmann, Siwar Elghoul, Marina Estévez Almenzar, Olga Galí Pérez*"
   ]
  },
  {
   "cell_type": "markdown",
   "metadata": {},
   "source": [
    "## Data  preparation"
   ]
  },
  {
   "cell_type": "markdown",
   "metadata": {},
   "source": [
    "Firstly, we excluded all the data from the participants that did not finish the questionnaire. \n",
    "Secondly, we excluded the participants who indicated a low level of privacy and a high level of noise of the surroundings where the participant was answering the questionnaire. \n",
    "Third, we excluded the participants who did not select male or female in the question about the gender.\n",
    "Finally, we ensured that the offense described by the participants was correctly described.\n",
    "\n",
    "As a result, we obtained the data included in `data.csv`"
   ]
  },
  {
   "cell_type": "code",
   "execution_count": 2,
   "metadata": {},
   "outputs": [],
   "source": [
    "import pandas as pd\n",
    "\n",
    "df = pd.read_csv('data.csv', sep=';', encoding='utf-16le')"
   ]
  },
  {
   "cell_type": "code",
   "execution_count": null,
   "metadata": {},
   "outputs": [],
   "source": []
  }
 ],
 "metadata": {
  "kernelspec": {
   "display_name": "Python 3",
   "language": "python",
   "name": "python3"
  },
  "language_info": {
   "codemirror_mode": {
    "name": "ipython",
    "version": 3
   },
   "file_extension": ".py",
   "mimetype": "text/x-python",
   "name": "python",
   "nbconvert_exporter": "python",
   "pygments_lexer": "ipython3",
   "version": "3.7.1"
  }
 },
 "nbformat": 4,
 "nbformat_minor": 2
}
